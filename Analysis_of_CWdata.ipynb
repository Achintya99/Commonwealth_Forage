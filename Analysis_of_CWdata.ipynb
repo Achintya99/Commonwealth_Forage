{
 "cells": [
  {
   "cell_type": "code",
   "execution_count": 1,
   "metadata": {},
   "outputs": [],
   "source": [
    "import pandas as pd\n",
    "import numpy as np"
   ]
  },
  {
   "cell_type": "code",
   "execution_count": null,
   "metadata": {},
   "outputs": [],
   "source": []
  },
  {
   "cell_type": "markdown",
   "metadata": {},
   "source": [
    "## Checking demographics after importing"
   ]
  },
  {
   "cell_type": "code",
   "execution_count": 2,
   "metadata": {},
   "outputs": [
    {
     "data": {
      "text/plain": [
       "Age Group\n",
       "10-19    64\n",
       "20-29    37\n",
       "30-39    30\n",
       "40-49    19\n",
       "50-59    18\n",
       "60-69    15\n",
       "Name: Cookies bought each week, dtype: int64"
      ]
     },
     "execution_count": 2,
     "metadata": {},
     "output_type": "execute_result"
    }
   ],
   "source": [
    "data=pd.read_excel(\"Using Data Analytics to Build Successful Businesses - Hard (1) (1).xlsx\")\n",
    "data.groupby('Age Group').sum()['Cookies bought each week']\n",
    "#data['Gender'].unique()"
   ]
  },
  {
   "cell_type": "code",
   "execution_count": 121,
   "metadata": {},
   "outputs": [
    {
     "data": {
      "text/html": [
       "<div>\n",
       "<style scoped>\n",
       "    .dataframe tbody tr th:only-of-type {\n",
       "        vertical-align: middle;\n",
       "    }\n",
       "\n",
       "    .dataframe tbody tr th {\n",
       "        vertical-align: top;\n",
       "    }\n",
       "\n",
       "    .dataframe thead th {\n",
       "        text-align: right;\n",
       "    }\n",
       "</style>\n",
       "<table border=\"1\" class=\"dataframe\">\n",
       "  <thead>\n",
       "    <tr style=\"text-align: right;\">\n",
       "      <th></th>\n",
       "      <th>Customer ID</th>\n",
       "      <th>Age</th>\n",
       "      <th>Age Group</th>\n",
       "      <th>Postcode</th>\n",
       "      <th>Gender</th>\n",
       "      <th>Favourite Cookie</th>\n",
       "      <th>Cookies bought each week</th>\n",
       "    </tr>\n",
       "  </thead>\n",
       "  <tbody>\n",
       "    <tr>\n",
       "      <th>0</th>\n",
       "      <td>1001</td>\n",
       "      <td>60</td>\n",
       "      <td>60-69</td>\n",
       "      <td>2000</td>\n",
       "      <td>M</td>\n",
       "      <td>Choc chip</td>\n",
       "      <td>1</td>\n",
       "    </tr>\n",
       "    <tr>\n",
       "      <th>1</th>\n",
       "      <td>1002</td>\n",
       "      <td>53</td>\n",
       "      <td>50-59</td>\n",
       "      <td>2010</td>\n",
       "      <td>M</td>\n",
       "      <td>Choc chip</td>\n",
       "      <td>1</td>\n",
       "    </tr>\n",
       "    <tr>\n",
       "      <th>2</th>\n",
       "      <td>1003</td>\n",
       "      <td>22</td>\n",
       "      <td>20-29</td>\n",
       "      <td>2010</td>\n",
       "      <td>F</td>\n",
       "      <td>Choc chip</td>\n",
       "      <td>2</td>\n",
       "    </tr>\n",
       "    <tr>\n",
       "      <th>3</th>\n",
       "      <td>1004</td>\n",
       "      <td>30</td>\n",
       "      <td>30-39</td>\n",
       "      <td>2010</td>\n",
       "      <td>F</td>\n",
       "      <td>Choc chip</td>\n",
       "      <td>6</td>\n",
       "    </tr>\n",
       "    <tr>\n",
       "      <th>4</th>\n",
       "      <td>1005</td>\n",
       "      <td>52</td>\n",
       "      <td>50-59</td>\n",
       "      <td>2010</td>\n",
       "      <td>F</td>\n",
       "      <td>Macadamia</td>\n",
       "      <td>3</td>\n",
       "    </tr>\n",
       "    <tr>\n",
       "      <th>5</th>\n",
       "      <td>1006</td>\n",
       "      <td>22</td>\n",
       "      <td>20-29</td>\n",
       "      <td>2022</td>\n",
       "      <td>F</td>\n",
       "      <td>Macadamia</td>\n",
       "      <td>3</td>\n",
       "    </tr>\n",
       "    <tr>\n",
       "      <th>6</th>\n",
       "      <td>1007</td>\n",
       "      <td>26</td>\n",
       "      <td>20-29</td>\n",
       "      <td>2010</td>\n",
       "      <td>F</td>\n",
       "      <td>Macadamia</td>\n",
       "      <td>8</td>\n",
       "    </tr>\n",
       "    <tr>\n",
       "      <th>7</th>\n",
       "      <td>1008</td>\n",
       "      <td>40</td>\n",
       "      <td>40-49</td>\n",
       "      <td>2022</td>\n",
       "      <td>F</td>\n",
       "      <td>Triple choc</td>\n",
       "      <td>2</td>\n",
       "    </tr>\n",
       "    <tr>\n",
       "      <th>8</th>\n",
       "      <td>1009</td>\n",
       "      <td>42</td>\n",
       "      <td>40-49</td>\n",
       "      <td>2022</td>\n",
       "      <td>F</td>\n",
       "      <td>Granola</td>\n",
       "      <td>1</td>\n",
       "    </tr>\n",
       "    <tr>\n",
       "      <th>9</th>\n",
       "      <td>1010</td>\n",
       "      <td>22</td>\n",
       "      <td>20-29</td>\n",
       "      <td>2000</td>\n",
       "      <td>M</td>\n",
       "      <td>Granola</td>\n",
       "      <td>3</td>\n",
       "    </tr>\n",
       "  </tbody>\n",
       "</table>\n",
       "</div>"
      ],
      "text/plain": [
       "   Customer ID  Age Age Group  Postcode Gender Favourite Cookie  \\\n",
       "0         1001   60     60-69      2000      M        Choc chip   \n",
       "1         1002   53     50-59      2010      M        Choc chip   \n",
       "2         1003   22     20-29      2010      F        Choc chip   \n",
       "3         1004   30     30-39      2010      F        Choc chip   \n",
       "4         1005   52     50-59      2010      F        Macadamia   \n",
       "5         1006   22     20-29      2022      F        Macadamia   \n",
       "6         1007   26     20-29      2010      F        Macadamia   \n",
       "7         1008   40     40-49      2022      F      Triple choc   \n",
       "8         1009   42     40-49      2022      F          Granola   \n",
       "9         1010   22     20-29      2000      M          Granola   \n",
       "\n",
       "   Cookies bought each week  \n",
       "0                         1  \n",
       "1                         1  \n",
       "2                         2  \n",
       "3                         6  \n",
       "4                         3  \n",
       "5                         3  \n",
       "6                         8  \n",
       "7                         2  \n",
       "8                         1  \n",
       "9                         3  "
      ]
     },
     "execution_count": 121,
     "metadata": {},
     "output_type": "execute_result"
    }
   ],
   "source": [
    "data.head(10)"
   ]
  },
  {
   "cell_type": "markdown",
   "metadata": {},
   "source": [
    "## Plotting the data\n"
   ]
  },
  {
   "cell_type": "code",
   "execution_count": 3,
   "metadata": {},
   "outputs": [
    {
     "data": {
      "image/png": "[encoded data removed]",
      "text/plain": [
       "<Figure size 432x288 with 1 Axes>"
      ]
     },
     "metadata": {
      "needs_background": "light"
     },
     "output_type": "display_data"
    }
   ],
   "source": [
    "import matplotlib.pyplot as plt\n",
    "\n",
    "    \n",
    "plt.xlabel('Age group',labelpad=15,size=12)\n",
    "plt.ylabel('Cookies bought')\n",
    "a= [a for a,t in data.groupby('Age Group')['Cookies bought each week']]\n",
    "plt.xticks(rotation='vertical',size=12)\n",
    "#a\n",
    "plt.bar(a,data.groupby('Age Group').sum()['Cookies bought each week'],color='b')\n",
    "\n",
    "plt.show()\n"
   ]
  },
  {
   "cell_type": "code",
   "execution_count": 4,
   "metadata": {},
   "outputs": [
    {
     "data": {
      "text/html": [
       "<div>\n",
       "<style scoped>\n",
       "    .dataframe tbody tr th:only-of-type {\n",
       "        vertical-align: middle;\n",
       "    }\n",
       "\n",
       "    .dataframe tbody tr th {\n",
       "        vertical-align: top;\n",
       "    }\n",
       "\n",
       "    .dataframe thead th {\n",
       "        text-align: right;\n",
       "    }\n",
       "</style>\n",
       "<table border=\"1\" class=\"dataframe\">\n",
       "  <thead>\n",
       "    <tr style=\"text-align: right;\">\n",
       "      <th></th>\n",
       "      <th></th>\n",
       "      <th>Customer ID</th>\n",
       "      <th>Postcode</th>\n",
       "      <th>Cookies bought each week</th>\n",
       "    </tr>\n",
       "    <tr>\n",
       "      <th>Favourite Cookie</th>\n",
       "      <th>Age</th>\n",
       "      <th></th>\n",
       "      <th></th>\n",
       "      <th></th>\n",
       "    </tr>\n",
       "  </thead>\n",
       "  <tbody>\n",
       "    <tr>\n",
       "      <th rowspan=\"11\" valign=\"top\">Choc chip</th>\n",
       "      <th>13</th>\n",
       "      <td>1046</td>\n",
       "      <td>2321</td>\n",
       "      <td>7</td>\n",
       "    </tr>\n",
       "    <tr>\n",
       "      <th>17</th>\n",
       "      <td>1045</td>\n",
       "      <td>2321</td>\n",
       "      <td>2</td>\n",
       "    </tr>\n",
       "    <tr>\n",
       "      <th>18</th>\n",
       "      <td>1030</td>\n",
       "      <td>2344</td>\n",
       "      <td>20</td>\n",
       "    </tr>\n",
       "    <tr>\n",
       "      <th>22</th>\n",
       "      <td>2034</td>\n",
       "      <td>4103</td>\n",
       "      <td>3</td>\n",
       "    </tr>\n",
       "    <tr>\n",
       "      <th>30</th>\n",
       "      <td>1004</td>\n",
       "      <td>2010</td>\n",
       "      <td>6</td>\n",
       "    </tr>\n",
       "    <tr>\n",
       "      <th>37</th>\n",
       "      <td>1017</td>\n",
       "      <td>2000</td>\n",
       "      <td>2</td>\n",
       "    </tr>\n",
       "    <tr>\n",
       "      <th>42</th>\n",
       "      <td>1025</td>\n",
       "      <td>2210</td>\n",
       "      <td>9</td>\n",
       "    </tr>\n",
       "    <tr>\n",
       "      <th>46</th>\n",
       "      <td>1018</td>\n",
       "      <td>2321</td>\n",
       "      <td>1</td>\n",
       "    </tr>\n",
       "    <tr>\n",
       "      <th>53</th>\n",
       "      <td>1002</td>\n",
       "      <td>2010</td>\n",
       "      <td>1</td>\n",
       "    </tr>\n",
       "    <tr>\n",
       "      <th>57</th>\n",
       "      <td>1026</td>\n",
       "      <td>2030</td>\n",
       "      <td>6</td>\n",
       "    </tr>\n",
       "    <tr>\n",
       "      <th>60</th>\n",
       "      <td>1001</td>\n",
       "      <td>2000</td>\n",
       "      <td>1</td>\n",
       "    </tr>\n",
       "    <tr>\n",
       "      <th rowspan=\"5\" valign=\"top\">Granola</th>\n",
       "      <th>17</th>\n",
       "      <td>2057</td>\n",
       "      <td>4662</td>\n",
       "      <td>21</td>\n",
       "    </tr>\n",
       "    <tr>\n",
       "      <th>21</th>\n",
       "      <td>1038</td>\n",
       "      <td>2001</td>\n",
       "      <td>1</td>\n",
       "    </tr>\n",
       "    <tr>\n",
       "      <th>22</th>\n",
       "      <td>1010</td>\n",
       "      <td>2000</td>\n",
       "      <td>3</td>\n",
       "    </tr>\n",
       "    <tr>\n",
       "      <th>33</th>\n",
       "      <td>1037</td>\n",
       "      <td>2093</td>\n",
       "      <td>1</td>\n",
       "    </tr>\n",
       "    <tr>\n",
       "      <th>42</th>\n",
       "      <td>1009</td>\n",
       "      <td>2022</td>\n",
       "      <td>1</td>\n",
       "    </tr>\n",
       "    <tr>\n",
       "      <th rowspan=\"15\" valign=\"top\">Macadamia</th>\n",
       "      <th>17</th>\n",
       "      <td>1035</td>\n",
       "      <td>2333</td>\n",
       "      <td>4</td>\n",
       "    </tr>\n",
       "    <tr>\n",
       "      <th>18</th>\n",
       "      <td>1011</td>\n",
       "      <td>2000</td>\n",
       "      <td>6</td>\n",
       "    </tr>\n",
       "    <tr>\n",
       "      <th>20</th>\n",
       "      <td>1039</td>\n",
       "      <td>2210</td>\n",
       "      <td>11</td>\n",
       "    </tr>\n",
       "    <tr>\n",
       "      <th>22</th>\n",
       "      <td>1006</td>\n",
       "      <td>2022</td>\n",
       "      <td>3</td>\n",
       "    </tr>\n",
       "    <tr>\n",
       "      <th>25</th>\n",
       "      <td>1040</td>\n",
       "      <td>2211</td>\n",
       "      <td>2</td>\n",
       "    </tr>\n",
       "    <tr>\n",
       "      <th>26</th>\n",
       "      <td>1007</td>\n",
       "      <td>2010</td>\n",
       "      <td>8</td>\n",
       "    </tr>\n",
       "    <tr>\n",
       "      <th>29</th>\n",
       "      <td>2056</td>\n",
       "      <td>4019</td>\n",
       "      <td>6</td>\n",
       "    </tr>\n",
       "    <tr>\n",
       "      <th>31</th>\n",
       "      <td>1041</td>\n",
       "      <td>2222</td>\n",
       "      <td>3</td>\n",
       "    </tr>\n",
       "    <tr>\n",
       "      <th>32</th>\n",
       "      <td>1013</td>\n",
       "      <td>2000</td>\n",
       "      <td>6</td>\n",
       "    </tr>\n",
       "    <tr>\n",
       "      <th>33</th>\n",
       "      <td>1012</td>\n",
       "      <td>2873</td>\n",
       "      <td>6</td>\n",
       "    </tr>\n",
       "    <tr>\n",
       "      <th>34</th>\n",
       "      <td>1021</td>\n",
       "      <td>2000</td>\n",
       "      <td>3</td>\n",
       "    </tr>\n",
       "    <tr>\n",
       "      <th>52</th>\n",
       "      <td>1005</td>\n",
       "      <td>2010</td>\n",
       "      <td>3</td>\n",
       "    </tr>\n",
       "    <tr>\n",
       "      <th>61</th>\n",
       "      <td>1023</td>\n",
       "      <td>2000</td>\n",
       "      <td>4</td>\n",
       "    </tr>\n",
       "    <tr>\n",
       "      <th>64</th>\n",
       "      <td>1020</td>\n",
       "      <td>2000</td>\n",
       "      <td>3</td>\n",
       "    </tr>\n",
       "    <tr>\n",
       "      <th>66</th>\n",
       "      <td>1022</td>\n",
       "      <td>2000</td>\n",
       "      <td>3</td>\n",
       "    </tr>\n",
       "    <tr>\n",
       "      <th rowspan=\"4\" valign=\"top\">Mint</th>\n",
       "      <th>19</th>\n",
       "      <td>1032</td>\n",
       "      <td>2444</td>\n",
       "      <td>1</td>\n",
       "    </tr>\n",
       "    <tr>\n",
       "      <th>36</th>\n",
       "      <td>1016</td>\n",
       "      <td>2000</td>\n",
       "      <td>2</td>\n",
       "    </tr>\n",
       "    <tr>\n",
       "      <th>44</th>\n",
       "      <td>1044</td>\n",
       "      <td>2000</td>\n",
       "      <td>3</td>\n",
       "    </tr>\n",
       "    <tr>\n",
       "      <th>55</th>\n",
       "      <td>1024</td>\n",
       "      <td>2000</td>\n",
       "      <td>5</td>\n",
       "    </tr>\n",
       "    <tr>\n",
       "      <th rowspan=\"2\" valign=\"top\">Salted caramel</th>\n",
       "      <th>19</th>\n",
       "      <td>1033</td>\n",
       "      <td>2000</td>\n",
       "      <td>1</td>\n",
       "    </tr>\n",
       "    <tr>\n",
       "      <th>32</th>\n",
       "      <td>1027</td>\n",
       "      <td>2763</td>\n",
       "      <td>1</td>\n",
       "    </tr>\n",
       "    <tr>\n",
       "      <th rowspan=\"6\" valign=\"top\">Triple choc</th>\n",
       "      <th>12</th>\n",
       "      <td>1036</td>\n",
       "      <td>2347</td>\n",
       "      <td>1</td>\n",
       "    </tr>\n",
       "    <tr>\n",
       "      <th>16</th>\n",
       "      <td>1034</td>\n",
       "      <td>2332</td>\n",
       "      <td>1</td>\n",
       "    </tr>\n",
       "    <tr>\n",
       "      <th>40</th>\n",
       "      <td>1008</td>\n",
       "      <td>2022</td>\n",
       "      <td>2</td>\n",
       "    </tr>\n",
       "    <tr>\n",
       "      <th>45</th>\n",
       "      <td>1043</td>\n",
       "      <td>2000</td>\n",
       "      <td>3</td>\n",
       "    </tr>\n",
       "    <tr>\n",
       "      <th>58</th>\n",
       "      <td>1015</td>\n",
       "      <td>2000</td>\n",
       "      <td>3</td>\n",
       "    </tr>\n",
       "    <tr>\n",
       "      <th>68</th>\n",
       "      <td>1019</td>\n",
       "      <td>2000</td>\n",
       "      <td>4</td>\n",
       "    </tr>\n",
       "  </tbody>\n",
       "</table>\n",
       "</div>"
      ],
      "text/plain": [
       "                      Customer ID  Postcode  Cookies bought each week\n",
       "Favourite Cookie Age                                                 \n",
       "Choc chip        13          1046      2321                         7\n",
       "                 17          1045      2321                         2\n",
       "                 18          1030      2344                        20\n",
       "                 22          2034      4103                         3\n",
       "                 30          1004      2010                         6\n",
       "                 37          1017      2000                         2\n",
       "                 42          1025      2210                         9\n",
       "                 46          1018      2321                         1\n",
       "                 53          1002      2010                         1\n",
       "                 57          1026      2030                         6\n",
       "                 60          1001      2000                         1\n",
       "Granola          17          2057      4662                        21\n",
       "                 21          1038      2001                         1\n",
       "                 22          1010      2000                         3\n",
       "                 33          1037      2093                         1\n",
       "                 42          1009      2022                         1\n",
       "Macadamia        17          1035      2333                         4\n",
       "                 18          1011      2000                         6\n",
       "                 20          1039      2210                        11\n",
       "                 22          1006      2022                         3\n",
       "                 25          1040      2211                         2\n",
       "                 26          1007      2010                         8\n",
       "                 29          2056      4019                         6\n",
       "                 31          1041      2222                         3\n",
       "                 32          1013      2000                         6\n",
       "                 33          1012      2873                         6\n",
       "                 34          1021      2000                         3\n",
       "                 52          1005      2010                         3\n",
       "                 61          1023      2000                         4\n",
       "                 64          1020      2000                         3\n",
       "                 66          1022      2000                         3\n",
       "Mint             19          1032      2444                         1\n",
       "                 36          1016      2000                         2\n",
       "                 44          1044      2000                         3\n",
       "                 55          1024      2000                         5\n",
       "Salted caramel   19          1033      2000                         1\n",
       "                 32          1027      2763                         1\n",
       "Triple choc      12          1036      2347                         1\n",
       "                 16          1034      2332                         1\n",
       "                 40          1008      2022                         2\n",
       "                 45          1043      2000                         3\n",
       "                 58          1015      2000                         3\n",
       "                 68          1019      2000                         4"
      ]
     },
     "execution_count": 4,
     "metadata": {},
     "output_type": "execute_result"
    }
   ],
   "source": [
    "data.groupby(['Favourite Cookie','Age']).sum()"
   ]
  },
  {
   "cell_type": "code",
   "execution_count": 5,
   "metadata": {},
   "outputs": [
    {
     "data": {
      "text/plain": [
       "Customer ID                 False\n",
       "Age                         False\n",
       "Age Group                   False\n",
       "Postcode                    False\n",
       "Gender                      False\n",
       "Favourite Cookie            False\n",
       "Cookies bought each week    False\n",
       "dtype: bool"
      ]
     },
     "execution_count": 5,
     "metadata": {},
     "output_type": "execute_result"
    }
   ],
   "source": [
    "data.isna().any()"
   ]
  },
  {
   "cell_type": "code",
   "execution_count": 10,
   "metadata": {},
   "outputs": [
    {
     "data": {
      "text/plain": [
       "array([ True,  True,  True,  True,  True,  True,  True,  True,  True,\n",
       "        True,  True,  True,  True,  True,  True,  True,  True,  True,\n",
       "        True,  True,  True,  True,  True,  True,  True,  True,  True,\n",
       "        True,  True,  True,  True,  True,  True,  True])"
      ]
     },
     "execution_count": 10,
     "metadata": {},
     "output_type": "execute_result"
    }
   ],
   "source": [
    "#data has no Nan values\n",
    "(data['Age'].unique()<80)"
   ]
  },
  {
   "cell_type": "code",
   "execution_count": 91,
   "metadata": {},
   "outputs": [
    {
     "data": {
      "image/png": "[encoded data removed]",
      "text/plain": [
       "<Figure size 576x576 with 1 Axes>"
      ]
     },
     "metadata": {
      "needs_background": "light"
     },
     "output_type": "display_data"
    }
   ],
   "source": [
    "data.groupby(['Favourite Cookie']).sum()['Cookies bought each week']\n",
    "keys=[key for key,c in data.groupby('Favourite Cookie')]\n",
    "plt.figure(figsize=(8,8))\n",
    "plt.bar(keys,data.groupby(['Favourite Cookie']).sum()['Cookies bought each week'],color='b')\n",
    "plt.xlabel('Cookie type')\n",
    "plt.ylabel('Cookies bought per day',color='b')\n",
    "plt.title('Cookie distribution')\n",
    "plt.xticks(keys,rotation='vertical')\n",
    "plt.tight_layout()\n",
    "plt.savefig('Cookies distribution.jpg')\n",
    "plt.show()\n"
   ]
  },
  {
   "cell_type": "markdown",
   "metadata": {},
   "source": [
    "## Look at preferences of males and females"
   ]
  },
  {
   "cell_type": "code",
   "execution_count": 70,
   "metadata": {},
   "outputs": [
    {
     "name": "stdout",
     "output_type": "stream",
     "text": [
      "Males=63 and females=120\n"
     ]
    }
   ],
   "source": [
    "data_m=data[data['Gender']=='M']\n",
    "data_f=data[data['Gender']=='F']\n",
    "f_cookies=data_f.groupby('Favourite Cookie').sum()['Cookies bought each week'].sum()\n",
    "m_cookies=data_m.groupby('Favourite Cookie').sum()['Cookies bought each week'].sum()\n",
    "print(f'Males={m_cookies} and females={f_cookies}')"
   ]
  },
  {
   "cell_type": "code",
   "execution_count": 95,
   "metadata": {},
   "outputs": [
    {
     "data": {
      "image/png": "[encoded data removed]",
      "text/plain": [
       "<Figure size 432x288 with 1 Axes>"
      ]
     },
     "metadata": {
      "needs_background": "light"
     },
     "output_type": "display_data"
    }
   ],
   "source": [
    "genders=['M','F']\n",
    "v=[63,120]\n",
    "plt.bar(genders,v)\n",
    "plt.xlabel('Genders')\n",
    "plt.ylabel('Cookies bought each week')\n",
    "plt.title('Distribution between genders')\n",
    "plt.tight_layout()\n",
    "plt.savefig('Gender_dist.jpg',dpi=300)\n",
    "plt.show()"
   ]
  },
  {
   "cell_type": "code",
   "execution_count": 103,
   "metadata": {},
   "outputs": [
    {
     "data": {
      "image/png": "[encoded data removed]",
      "text/plain": [
       "<Figure size 432x288 with 1 Axes>"
      ]
     },
     "metadata": {
      "needs_background": "light"
     },
     "output_type": "display_data"
    }
   ],
   "source": [
    "#focusing on the female customers\n",
    "data_f.groupby('Favourite Cookie').sum()\n",
    "kf=[key for key,c in data_f.groupby('Favourite Cookie')]\n",
    "plt.bar(kf,data_f.groupby('Favourite Cookie').sum()['Cookies bought each week'])\n",
    "plt.xlabel('Cookie type')\n",
    "plt.ylabel('Cookies bought each week')\n",
    "plt.title('Cookie distribution for females')\n",
    "plt.savefig('Female_dist.jpg',dpi=300)\n",
    "plt.show()"
   ]
  },
  {
   "cell_type": "markdown",
   "metadata": {},
   "source": [
    "## Checking according to postcode"
   ]
  },
  {
   "cell_type": "code",
   "execution_count": 132,
   "metadata": {},
   "outputs": [
    {
     "data": {
      "text/plain": [
       "Postcode\n",
       "2000    55\n",
       "2001     1\n",
       "2010    20\n",
       "2019     3\n",
       "2022     6\n",
       "2030     6\n",
       "2093     2\n",
       "2210    20\n",
       "2211     2\n",
       "2222     3\n",
       "2321    10\n",
       "2331    21\n",
       "2332     1\n",
       "2333     4\n",
       "2344    20\n",
       "2347     1\n",
       "2444     1\n",
       "2763     1\n",
       "2873     6\n",
       "Name: Cookies bought each week, dtype: int64"
      ]
     },
     "execution_count": 132,
     "metadata": {},
     "output_type": "execute_result"
    }
   ],
   "source": [
    "data.groupby('Postcode').sum()['Cookies bought each week']\n",
    "#len(data['Postcode'].unique())= 19"
   ]
  },
  {
   "cell_type": "code",
   "execution_count": 149,
   "metadata": {},
   "outputs": [
    {
     "data": {
      "image/png": "[encoded data removed]",
      "text/plain": [
       "<Figure size 432x288 with 1 Axes>"
      ]
     },
     "metadata": {
      "needs_background": "light"
     },
     "output_type": "display_data"
    }
   ],
   "source": [
    "df=data[data['Postcode']==2000]\n",
    "df.groupby('Favourite Cookie').sum()\n",
    "plt.bar(keys,df.groupby('Favourite Cookie').sum()['Cookies bought each week'])\n",
    "plt.xlabel('Cookie type')\n",
    "plt.ylabel('Cookies bought each week')\n",
    "plt.xticks(keys,rotation='vertical')\n",
    "plt.title('Postcode 2000 distribution')\n",
    "plt.tight_layout()\n",
    "plt.savefig('MPostcode_2000.jpg')\n",
    "\n",
    "\n",
    "\n",
    "plt.show()"
   ]
  },
  {
   "cell_type": "code",
   "execution_count": 142,
   "metadata": {},
   "outputs": [
    {
     "data": {
      "image/png": "[encoded data removed]",
      "text/plain": [
       "<Figure size 432x288 with 1 Axes>"
      ]
     },
     "metadata": {
      "needs_background": "light"
     },
     "output_type": "display_data"
    }
   ],
   "source": [
    "data_m.groupby('Favourite Cookie').sum()['Cookies bought each week']\n",
    "plt.bar(keys,data_m.groupby('Favourite Cookie').sum()['Cookies bought each week'])\n",
    "plt.xlabel('Cookie type')\n",
    "plt.ylabel('Cookies bought each week')\n",
    "plt.xticks(keys,rotation='vertical')\n",
    "plt.title('Male distribution')\n",
    "plt.tight_layout()\n",
    "plt.savefig('Male_dist.jpg')\n",
    "plt.show()"
   ]
  }
 ],
 "metadata": {
  "kernelspec": {
   "display_name": "Python 3",
   "language": "python",
   "name": "python3"
  },
  "language_info": {
   "codemirror_mode": {
    "name": "ipython",
    "version": 3
   },
   "file_extension": ".py",
   "mimetype": "text/x-python",
   "name": "python",
   "nbconvert_exporter": "python",
   "pygments_lexer": "ipython3",
   "version": "3.8.5"
  }
 },
 "nbformat": 4,
 "nbformat_minor": 4
}
